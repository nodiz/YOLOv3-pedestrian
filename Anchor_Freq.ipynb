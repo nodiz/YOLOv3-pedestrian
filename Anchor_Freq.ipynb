{
 "cells": [
  {
   "cell_type": "markdown",
   "metadata": {
    "colab_type": "text",
    "id": "M6YbSuwyhUNQ"
   },
   "source": [
    "## Convolutional Networks\n",
    "\n",
    "We'll check out how to build a **convolutional network** to classify CIFAR10 images. By using weight sharing - multiple units with the same weights - convolutional layers are able to learn repeated patterns in your data. For example, a unit could learn the pattern for an eye, or a face, or lower level features like edges.\n"
   ]
  },
  {
   "cell_type": "code",
   "execution_count": 2,
   "metadata": {
    "colab": {},
    "colab_type": "code",
    "id": "I77wpmWXhUNY"
   },
   "outputs": [],
   "source": [
    "import sys, os\n",
    "import glob, json\n",
    "from os import path\n",
    "import numpy as np\n",
    "import matplotlib.pyplot as plt\n",
    "from collections import Counter\n"
   ]
  },
  {
   "cell_type": "code",
   "execution_count": 3,
   "metadata": {
    "colab": {
     "base_uri": "https://localhost:8080/",
     "height": 133,
     "referenced_widgets": [
      "213cac94d8bc4a63945a7e7e721faee2",
      "cf083c5f3b7344bb8388f9c7d6a731b3",
      "731454f2a7dc49b09622933289dd96fe",
      "5d5ae1e0837a4be89cf5273c1b8b62c7",
      "79bde998f09d4eb8bb9db55a293ec403",
      "75b9833fc3a74c1e822e6a1486f53ec8",
      "0a45a72f3f4440ee8fd14ab5d69dcda4",
      "5dd5ca2da60948f2b2cd40a749a8ad8e"
     ]
    },
    "colab_type": "code",
    "id": "EM0pxtgDhUNl",
    "outputId": "bcbdf98a-d41c-4c5b-88cf-fe9ec060dcdd"
   },
   "outputs": [],
   "source": [
    "class bbox_rect(object):\n",
    "  def __init__(self, s):\n",
    "    self.x0, self.x1, self.y0, self.y1 = s['x0'], s['x1'], s['y0'], s['y1']\n",
    "    self.xc = (self.x0 + self.x1) / 2 \n",
    "    self.yc = (self.y0 + self.y1) / 2 \n",
    "    self.w = abs(self.x1 - self.x0)\n",
    "    self.h = abs(self.y1 - self.y0)\n",
    "    self.h0 = 1024\n",
    "    self.w0 = 1920\n",
    "  def to_ecp(self):\n",
    "    return [self.x0, self.x1, self.y0, self.y1]\n",
    "  def to_yolo(self):\n",
    "    return [self.xc, self.yc, self.w, self.h]\n",
    "  def to_yolo_norm(self):\n",
    "    l_yolo = self.to_yolo()\n",
    "    l_yolo[0] /= self.w0\n",
    "    l_yolo[1] /= self.h0\n",
    "    l_yolo[2] /= self.w0\n",
    "    l_yolo[3] /= self.h0\n",
    "    return l_yolo\n",
    "\n",
    "classes_dict = {\n",
    "    \"pedestrian\" : 0,\n",
    "    \"rider\" : 1,\n",
    "    \"person-group-far-away\" : 2,\n",
    "}\n",
    "\n",
    "labels = glob.glob('/media/fabien/Anne/data/ECP/day/labels/train/*/*.json')\n",
    "\n",
    "list_of_bbox = list()\n",
    "\n",
    "for l in  labels:\n",
    "    print(l)\n",
    "    with open(l, 'r') as f:\n",
    "        datastore = json.load(f)\n",
    "    s = datastore[\"children\"]\n",
    "\n",
    "    for bbox in s:\n",
    "      if bbox['identity'] in classes_dict.keys():\n",
    "        id = classes_dict[bbox['identity']]\n",
    "        bbox = bbox_rect(bbox).to_yolo_norm()\n",
    "        list_of_bbox=list(list_of_bbox)\n",
    "        list_of_bbox.append([id] + bbox)\n",
    "    list_of_bbox = np.array(list_of_bbox)\n",
    "\n",
    "\n",
    "\n"
   ]
  },
  {
   "cell_type": "code",
   "execution_count": 59,
   "metadata": {
    "colab": {},
    "colab_type": "code",
    "id": "pVabdQqlhUNv"
   },
   "outputs": [
    {
     "name": "stdout",
     "output_type": "stream",
     "text": [
      "[0.22070312 0.20214844 0.02539062 ... 0.06738281 0.09570312 0.45214844]\n"
     ]
    }
   ],
   "source": [
    "print(list_of_bbox)\n"
   ]
  },
  {
   "cell_type": "code",
   "execution_count": 7,
   "metadata": {
    "colab": {
     "base_uri": "https://localhost:8080/",
     "height": 1000
    },
    "colab_type": "code",
    "id": "o21tGUMVhUN2",
    "outputId": "d3cd8ded-fe8b-4e8a-ba13-851e844863ec",
    "scrolled": false
   },
   "outputs": [],
   "source": [
    "np.save(\"boundary_list\", list_of_bbox)"
   ]
  },
  {
   "cell_type": "markdown",
   "metadata": {
    "colab_type": "text",
    "id": "CC31oDX1hUN-"
   },
   "source": [
    "Save best trained model."
   ]
  },
  {
   "cell_type": "code",
   "execution_count": 46,
   "metadata": {
    "colab": {
     "base_uri": "https://localhost:8080/",
     "height": 34
    },
    "colab_type": "code",
    "id": "nne01Wx7hUOA",
    "outputId": "68d9a4b0-c08b-4089-9e62-6af04018673a"
   },
   "outputs": [
    {
     "name": "stdout",
     "output_type": "stream",
     "text": [
      "[((10.0, 5.0), 38348), ((15.0, 5.0), 25900), ((5.0, 0.0), 16768), ((20.0, 5.0), 11180), ((5.0, 5.0), 10976), ((25.0, 10.0), 8030), ((20.0, 10.0), 6813), ((30.0, 10.0), 5785), ((15.0, 10.0), 3101), ((25.0, 5.0), 2967)]\n"
     ]
    }
   ],
   "source": [
    "list_of_bbox = np.load(\"boundary_list.npy\")\n",
    "\n",
    "\n",
    "height = list_of_bbox[:,4]*1024/1920*416\n",
    "width = list_of_bbox[:,3]*1920/1920*416\n",
    "\n",
    "\n",
    "\n",
    "base=5\n",
    "height=base*np.round(height/base)\n",
    "width=base*np.round(width/base)\n",
    "\n",
    "\n",
    "bounding_box=list(tuple(zip(height, width)))\n",
    "freq = Counter(bounding_box).most_common(10)\n",
    "\n",
    "print(freq)\n",
    "\n"
   ]
  },
  {
   "cell_type": "code",
   "execution_count": 79,
   "metadata": {
    "scrolled": false
   },
   "outputs": [
    {
     "data": {
      "text/plain": [
       "Text(0.5, 1.0, 'width')"
      ]
     },
     "execution_count": 79,
     "metadata": {},
     "output_type": "execute_result"
    },
    {
     "data": {
      "image/png": "[encoded data removed]",
      "text/plain": [
       "<Figure size 432x288 with 1 Axes>"
      ]
     },
     "metadata": {
      "needs_background": "light"
     },
     "output_type": "display_data"
    },
    {
     "data": {
      "image/png": "[encoded data removed]",
      "text/plain": [
       "<Figure size 432x288 with 1 Axes>"
      ]
     },
     "metadata": {
      "needs_background": "light"
     },
     "output_type": "display_data"
    }
   ],
   "source": [
    "plt.hist(height,9)\n",
    "#plt.axis([0, 200, 0, 6000])\n",
    "plt.title('height')\n",
    "plt.figure()\n",
    "plt.hist(width,9)\n",
    "#plt.axis([0, 500, 0, 6000])\n",
    "plt.title('width')\n"
   ]
  }
 ],
 "metadata": {
  "colab": {
   "collapsed_sections": [],
   "name": "CNN ExerciseAlex.ipynb",
   "provenance": []
  },
  "kernelspec": {
   "display_name": "Python 3",
   "language": "python",
   "name": "python3"
  },
  "language_info": {
   "codemirror_mode": {
    "name": "ipython",
    "version": 3
   },
   "file_extension": ".py",
   "mimetype": "text/x-python",
   "name": "python",
   "nbconvert_exporter": "python",
   "pygments_lexer": "ipython3",
   "version": "3.6.9"
  },
  "widgets": {
   "application/vnd.jupyter.widget-state+json": {
    "0a45a72f3f4440ee8fd14ab5d69dcda4": {
     "model_module": "@jupyter-widgets/controls",
     "model_name": "DescriptionStyleModel",
     "state": {
      "_model_module": "@jupyter-widgets/controls",
      "_model_module_version": "1.5.0",
      "_model_name": "DescriptionStyleModel",
      "_view_count": null,
      "_view_module": "@jupyter-widgets/base",
      "_view_module_version": "1.2.0",
      "_view_name": "StyleView",
      "description_width": ""
     }
    },
    "213cac94d8bc4a63945a7e7e721faee2": {
     "model_module": "@jupyter-widgets/controls",
     "model_name": "HBoxModel",
     "state": {
      "_dom_classes": [],
      "_model_module": "@jupyter-widgets/controls",
      "_model_module_version": "1.5.0",
      "_model_name": "HBoxModel",
      "_view_count": null,
      "_view_module": "@jupyter-widgets/controls",
      "_view_module_version": "1.5.0",
      "_view_name": "HBoxView",
      "box_style": "",
      "children": [
       "IPY_MODEL_731454f2a7dc49b09622933289dd96fe",
       "IPY_MODEL_5d5ae1e0837a4be89cf5273c1b8b62c7"
      ],
      "layout": "IPY_MODEL_cf083c5f3b7344bb8388f9c7d6a731b3"
     }
    },
    "5d5ae1e0837a4be89cf5273c1b8b62c7": {
     "model_module": "@jupyter-widgets/controls",
     "model_name": "HTMLModel",
     "state": {
      "_dom_classes": [],
      "_model_module": "@jupyter-widgets/controls",
      "_model_module_version": "1.5.0",
      "_model_name": "HTMLModel",
      "_view_count": null,
      "_view_module": "@jupyter-widgets/controls",
      "_view_module_version": "1.5.0",
      "_view_name": "HTMLView",
      "description": "",
      "description_tooltip": null,
      "layout": "IPY_MODEL_5dd5ca2da60948f2b2cd40a749a8ad8e",
      "placeholder": "​",
      "style": "IPY_MODEL_0a45a72f3f4440ee8fd14ab5d69dcda4",
      "value": " 170500096/? [00:30&lt;00:00, 17139775.19it/s]"
     }
    },
    "5dd5ca2da60948f2b2cd40a749a8ad8e": {
     "model_module": "@jupyter-widgets/base",
     "model_name": "LayoutModel",
     "state": {
      "_model_module": "@jupyter-widgets/base",
      "_model_module_version": "1.2.0",
      "_model_name": "LayoutModel",
      "_view_count": null,
      "_view_module": "@jupyter-widgets/base",
      "_view_module_version": "1.2.0",
      "_view_name": "LayoutView",
      "align_content": null,
      "align_items": null,
      "align_self": null,
      "border": null,
      "bottom": null,
      "display": null,
      "flex": null,
      "flex_flow": null,
      "grid_area": null,
      "grid_auto_columns": null,
      "grid_auto_flow": null,
      "grid_auto_rows": null,
      "grid_column": null,
      "grid_gap": null,
      "grid_row": null,
      "grid_template_areas": null,
      "grid_template_columns": null,
      "grid_template_rows": null,
      "height": null,
      "justify_content": null,
      "justify_items": null,
      "left": null,
      "margin": null,
      "max_height": null,
      "max_width": null,
      "min_height": null,
      "min_width": null,
      "object_fit": null,
      "object_position": null,
      "order": null,
      "overflow": null,
      "overflow_x": null,
      "overflow_y": null,
      "padding": null,
      "right": null,
      "top": null,
      "visibility": null,
      "width": null
     }
    },
    "731454f2a7dc49b09622933289dd96fe": {
     "model_module": "@jupyter-widgets/controls",
     "model_name": "IntProgressModel",
     "state": {
      "_dom_classes": [],
      "_model_module": "@jupyter-widgets/controls",
      "_model_module_version": "1.5.0",
      "_model_name": "IntProgressModel",
      "_view_count": null,
      "_view_module": "@jupyter-widgets/controls",
      "_view_module_version": "1.5.0",
      "_view_name": "ProgressView",
      "bar_style": "info",
      "description": "",
      "description_tooltip": null,
      "layout": "IPY_MODEL_75b9833fc3a74c1e822e6a1486f53ec8",
      "max": 1,
      "min": 0,
      "orientation": "horizontal",
      "style": "IPY_MODEL_79bde998f09d4eb8bb9db55a293ec403",
      "value": 1
     }
    },
    "75b9833fc3a74c1e822e6a1486f53ec8": {
     "model_module": "@jupyter-widgets/base",
     "model_name": "LayoutModel",
     "state": {
      "_model_module": "@jupyter-widgets/base",
      "_model_module_version": "1.2.0",
      "_model_name": "LayoutModel",
      "_view_count": null,
      "_view_module": "@jupyter-widgets/base",
      "_view_module_version": "1.2.0",
      "_view_name": "LayoutView",
      "align_content": null,
      "align_items": null,
      "align_self": null,
      "border": null,
      "bottom": null,
      "display": null,
      "flex": null,
      "flex_flow": null,
      "grid_area": null,
      "grid_auto_columns": null,
      "grid_auto_flow": null,
      "grid_auto_rows": null,
      "grid_column": null,
      "grid_gap": null,
      "grid_row": null,
      "grid_template_areas": null,
      "grid_template_columns": null,
      "grid_template_rows": null,
      "height": null,
      "justify_content": null,
      "justify_items": null,
      "left": null,
      "margin": null,
      "max_height": null,
      "max_width": null,
      "min_height": null,
      "min_width": null,
      "object_fit": null,
      "object_position": null,
      "order": null,
      "overflow": null,
      "overflow_x": null,
      "overflow_y": null,
      "padding": null,
      "right": null,
      "top": null,
      "visibility": null,
      "width": null
     }
    },
    "79bde998f09d4eb8bb9db55a293ec403": {
     "model_module": "@jupyter-widgets/controls",
     "model_name": "ProgressStyleModel",
     "state": {
      "_model_module": "@jupyter-widgets/controls",
      "_model_module_version": "1.5.0",
      "_model_name": "ProgressStyleModel",
      "_view_count": null,
      "_view_module": "@jupyter-widgets/base",
      "_view_module_version": "1.2.0",
      "_view_name": "StyleView",
      "bar_color": null,
      "description_width": "initial"
     }
    },
    "cf083c5f3b7344bb8388f9c7d6a731b3": {
     "model_module": "@jupyter-widgets/base",
     "model_name": "LayoutModel",
     "state": {
      "_model_module": "@jupyter-widgets/base",
      "_model_module_version": "1.2.0",
      "_model_name": "LayoutModel",
      "_view_count": null,
      "_view_module": "@jupyter-widgets/base",
      "_view_module_version": "1.2.0",
      "_view_name": "LayoutView",
      "align_content": null,
      "align_items": null,
      "align_self": null,
      "border": null,
      "bottom": null,
      "display": null,
      "flex": null,
      "flex_flow": null,
      "grid_area": null,
      "grid_auto_columns": null,
      "grid_auto_flow": null,
      "grid_auto_rows": null,
      "grid_column": null,
      "grid_gap": null,
      "grid_row": null,
      "grid_template_areas": null,
      "grid_template_columns": null,
      "grid_template_rows": null,
      "height": null,
      "justify_content": null,
      "justify_items": null,
      "left": null,
      "margin": null,
      "max_height": null,
      "max_width": null,
      "min_height": null,
      "min_width": null,
      "object_fit": null,
      "object_position": null,
      "order": null,
      "overflow": null,
      "overflow_x": null,
      "overflow_y": null,
      "padding": null,
      "right": null,
      "top": null,
      "visibility": null,
      "width": null
     }
    }
   }
  }
 },
 "nbformat": 4,
 "nbformat_minor": 1
}
